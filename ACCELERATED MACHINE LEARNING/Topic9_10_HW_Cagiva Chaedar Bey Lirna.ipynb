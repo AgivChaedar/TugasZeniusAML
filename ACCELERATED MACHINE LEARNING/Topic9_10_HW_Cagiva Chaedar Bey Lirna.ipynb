{
 "cells": [
  {
   "cell_type": "markdown",
   "metadata": {},
   "source": [
    "Cagiva Chaedar Bey Lirna"
   ]
  },
  {
   "cell_type": "markdown",
   "metadata": {},
   "source": [
    "# Permasalahan"
   ]
  },
  {
   "cell_type": "markdown",
   "metadata": {},
   "source": [
    "A company wants to run a new campaign to increase the transactions’ amount of its product.\n",
    "Before running the actual campaign to the whole customers, the company wants to know the \n",
    "campaign’s effectiveness in their 30 days transactions’ amount.\n",
    "The average of transactions’ amount before the campaign is $100.\n",
    "The company ran a testing on 20 customers and gathered their transactions’ amount in the next 30 \n",
    "days after the campaign. The data is stored in this table below.\n",
    "Run a t-test analysis on the transactions’ amount average (with alpha = 5%). "
   ]
  },
  {
   "cell_type": "markdown",
   "metadata": {},
   "source": [
    "# Proses mencari solusi"
   ]
  },
  {
   "cell_type": "markdown",
   "metadata": {},
   "source": [
    "Campign dikatakan efektif jika jumlah transaksi selama masa percobaan 30 hari lebih besar dibanding dengan jumlah transaksi sebelum campign. Rata-rata jumlah transaksi sebelum campign adalah $100."
   ]
  },
  {
   "cell_type": "markdown",
   "metadata": {},
   "source": [
    "### 1. Menentukan Hipotesis"
   ]
  },
  {
   "cell_type": "markdown",
   "metadata": {},
   "source": [
    "H0 : Mean jumlah transaksi selama masa percobaan 30 hari = `$100`\n",
    "\n",
    "H1 : Mean jumlah transaksi selama masa percobaan 30 hari > `$100`"
   ]
  },
  {
   "cell_type": "markdown",
   "metadata": {},
   "source": [
    "### 2. Menentukan alpha (Tingkat Signifikansi)"
   ]
  },
  {
   "cell_type": "code",
   "execution_count": 29,
   "metadata": {},
   "outputs": [],
   "source": [
    "alpha = 0.05"
   ]
  },
  {
   "cell_type": "markdown",
   "metadata": {},
   "source": [
    "### 3. Uji - t"
   ]
  },
  {
   "cell_type": "code",
   "execution_count": 30,
   "metadata": {},
   "outputs": [],
   "source": [
    "import scipy.stats as stats\n",
    "import pandas as pd\n",
    "import numpy as np"
   ]
  },
  {
   "cell_type": "code",
   "execution_count": 31,
   "metadata": {},
   "outputs": [],
   "source": [
    "jml_transaksi= np.array([100, 150, 50, 100, 130, 120, 100, 110, 75, 65, 150, 120, 50, 100, 100, 140, 90, 150, 50, 90])"
   ]
  },
  {
   "cell_type": "code",
   "execution_count": 32,
   "metadata": {},
   "outputs": [],
   "source": [
    "tstatistics, pvalue = stats.ttest_1samp(a=jml_transaksi, popmean=100)"
   ]
  },
  {
   "cell_type": "code",
   "execution_count": 35,
   "metadata": {},
   "outputs": [],
   "source": [
    "def kesimpulan():\n",
    "    df_transaksi= pd.DataFrame(jml_transaksi, columns=[\"Jumlah Transaksi\"])\n",
    "    print(\"Data yang dianalisis\\n-----------------------------\")\n",
    "    print(df_transaksi, \"\\n-----------------------------\")\n",
    "    print(\"Menghitung nilai t - statistics dan p - value\",\"\\na. t - statistics =\", tstatistics, \"\\nb. p - value =\", pvalue)\n",
    "    critical_tvalues = stats.t.ppf(1-alpha, 19)\n",
    "    print(\"Setelah mendapat nilai t-statistics dan p-value, selanjutnya hitung critical T-values untuk menyimpulkan hipotesis yang dibuat.\\n-----------------------------\")\n",
    "    print(\"critical T - values  =\", critical_tvalues, \"\\n-----------------------------\", \"\\nKesimpulan\")\n",
    "    if tstatistics<critical_tvalues:\n",
    "        print('t-statistics = %.2f'%tstatistics, '<', 'critical T-values = %.2f'%critical_tvalues, '\\nKarena t-statistics < Critical T-values, maka hipotesis H0 diterima.')\n",
    "    else:\n",
    "        print('t-statistics = %.2f'%tstatistics, '>', 'critical T-values = %.2f'%critical_tvalues,'\\nKarena t-statistics > Critical T-values, maka hipotesis H1 diterima.')"
   ]
  },
  {
   "cell_type": "markdown",
   "metadata": {},
   "source": [
    "# Solusi dan Kesimpulan"
   ]
  },
  {
   "cell_type": "code",
   "execution_count": 36,
   "metadata": {},
   "outputs": [
    {
     "name": "stdout",
     "output_type": "stream",
     "text": [
      "Data yang dianalisis\n",
      "-----------------------------\n",
      "    Jumlah Transaksi\n",
      "0                100\n",
      "1                150\n",
      "2                 50\n",
      "3                100\n",
      "4                130\n",
      "5                120\n",
      "6                100\n",
      "7                110\n",
      "8                 75\n",
      "9                 65\n",
      "10               150\n",
      "11               120\n",
      "12                50\n",
      "13               100\n",
      "14               100\n",
      "15               140\n",
      "16                90\n",
      "17               150\n",
      "18                50\n",
      "19                90 \n",
      "-----------------------------\n",
      "Menghitung nilai t - statistics dan p - value \n",
      "a. t - statistics = 0.2731657711666385 \n",
      "b. p - value = 0.787672894169515\n",
      "Setelah mendapat nilai t-statistics dan p-value, selanjutnya hitung critical T-values untuk menyimpulkan hipotesis yang dibuat.\n",
      "-----------------------------\n",
      "critical T - values  = 1.729132811521367 \n",
      "----------------------------- \n",
      "Kesimpulan\n",
      "t-statistics = 0.27 < critical T-values = 1.73 \n",
      "Karena t-statistics < Critical T-values, maka hipotesis H0 diterima.\n"
     ]
    }
   ],
   "source": [
    "kesimpulan()"
   ]
  },
  {
   "cell_type": "markdown",
   "metadata": {},
   "source": [
    "Karena didapat nilai t - statistics < critical T-values (0.27 < 1.73), sehingga dapat disimpulkan bahwa hipotesis H0 diterima atau rata-rata jumlah transaksi selama masa percobaan 30 hari = $100. Perlu digarisbawahi juga bahwa campaign yang dilakukan selama 30 hari tidak efektif dalam meningkatkan jumlah transaksi."
   ]
  }
 ],
 "metadata": {
  "kernelspec": {
   "display_name": "Python 3",
   "language": "python",
   "name": "python3"
  },
  "language_info": {
   "codemirror_mode": {
    "name": "ipython",
    "version": 3
   },
   "file_extension": ".py",
   "mimetype": "text/x-python",
   "name": "python",
   "nbconvert_exporter": "python",
   "pygments_lexer": "ipython3",
   "version": "3.8.5"
  }
 },
 "nbformat": 4,
 "nbformat_minor": 4
}
